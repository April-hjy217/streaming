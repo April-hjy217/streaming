{
 "cells": [
  {
   "cell_type": "code",
   "execution_count": 1,
   "id": "25454069-572e-4e2c-bffd-a8ea0426e76f",
   "metadata": {},
   "outputs": [
    {
     "data": {
      "text/plain": [
       "True"
      ]
     },
     "execution_count": 1,
     "metadata": {},
     "output_type": "execute_result"
    }
   ],
   "source": [
    "import json\n",
    "\n",
    "from kafka import KafkaProducer\n",
    "\n",
    "def json_serializer(data):\n",
    "    return json.dumps(data).encode('utf-8')\n",
    "\n",
    "server = 'localhost:9092'\n",
    "\n",
    "producer = KafkaProducer(\n",
    "    bootstrap_servers=[server],\n",
    "    value_serializer=json_serializer\n",
    ")\n",
    "\n",
    "producer.bootstrap_connected()"
   ]
  },
  {
   "cell_type": "code",
   "execution_count": 3,
   "id": "6b89f730-3c9b-4bb2-b545-b7ce54ba832d",
   "metadata": {},
   "outputs": [
    {
     "name": "stdout",
     "output_type": "stream",
     "text": [
      "Total time to send and flush the dataset: 71.18 seconds\n"
     ]
    }
   ],
   "source": [
    "import pandas as pd\n",
    "import json\n",
    "from kafka import KafkaProducer\n",
    "from time import time\n",
    "\n",
    "COLUMNS = [\n",
    "    'lpep_pickup_datetime',\n",
    "    'lpep_dropoff_datetime',\n",
    "    'PULocationID',\n",
    "    'DOLocationID',\n",
    "    'passenger_count',\n",
    "    'trip_distance',\n",
    "    'tip_amount'\n",
    "]\n",
    "\n",
    "csv_url = 'https://github.com/DataTalksClub/nyc-tlc-data/releases/download/green/green_tripdata_2019-10.csv.gz'\n",
    "df = pd.read_csv(csv_url, compression='gzip', usecols=COLUMNS)\n",
    "\n",
    "def json_serializer(data):\n",
    "    return json.dumps(data).encode('utf-8')\n",
    "\n",
    "producer = KafkaProducer(\n",
    "    bootstrap_servers=['localhost:9092'], \n",
    "    value_serializer=json_serializer\n",
    ")\n",
    "\n",
    "topic_name = 'green-trips'\n",
    "\n",
    "t0 = time()\n",
    "\n",
    "for idx, row in df.iterrows():\n",
    "    # Convert each row into a dictionary\n",
    "    message = {\n",
    "        'lpep_pickup_datetime': str(row['lpep_pickup_datetime']),\n",
    "        'lpep_dropoff_datetime': str(row['lpep_dropoff_datetime']),\n",
    "        'PULocationID': int(row['PULocationID']),\n",
    "        'DOLocationID': int(row['DOLocationID']),\n",
    "        'passenger_count': str(row['passenger_count']),\n",
    "        'trip_distance': float(row['trip_distance']),\n",
    "        'tip_amount': float(row['tip_amount'])\n",
    "    }\n",
    "    \n",
    "    # Send the message to the 'green-trips' topic\n",
    "    producer.send(topic_name, value=message)\n",
    "\n",
    "producer.flush()\n",
    "\n",
    "t1 = time()\n",
    "took = t1 - t0\n",
    "\n",
    "print(f\"Total time to send and flush the dataset: {took:.2f} seconds\")\n"
   ]
  },
  {
   "cell_type": "code",
   "execution_count": null,
   "id": "179e335f-33db-4bda-b167-dc1dd3688a4d",
   "metadata": {},
   "outputs": [],
   "source": []
  }
 ],
 "metadata": {
  "kernelspec": {
   "display_name": "Python 3 (ipykernel)",
   "language": "python",
   "name": "python3"
  },
  "language_info": {
   "codemirror_mode": {
    "name": "ipython",
    "version": 3
   },
   "file_extension": ".py",
   "mimetype": "text/x-python",
   "name": "python",
   "nbconvert_exporter": "python",
   "pygments_lexer": "ipython3",
   "version": "3.12.1"
  }
 },
 "nbformat": 4,
 "nbformat_minor": 5
}
